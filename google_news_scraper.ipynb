{
 "cells": [
  {
   "cell_type": "code",
   "execution_count": 15,
   "id": "af5920e0-df29-45ce-9e3e-49304bdda873",
   "metadata": {},
   "outputs": [],
   "source": [
    "# from src.utils.gnews_scraper import get_result\n",
    "from GoogleNews import GoogleNews\n",
    "from gnews import gnews\n",
    "import datetime as dt"
   ]
  },
  {
   "cell_type": "code",
   "execution_count": 6,
   "id": "4e38b0e2-0ac4-4c2f-a639-8a98237b5130",
   "metadata": {},
   "outputs": [],
   "source": [
    "start_date = \"March 24, 2020\"\n",
    "end_date = \"Apr 2, 2020\"\n",
    "\n",
    "\n",
    "# start_date = dt.datetime(2018,12,1)\n",
    "# end_date = dt.datetime(2018,12,11)"
   ]
  },
  {
   "cell_type": "code",
   "execution_count": 20,
   "id": "4ae88d67-5cbd-49f6-9c60-4e41ea674c84",
   "metadata": {},
   "outputs": [],
   "source": [
    "stocks = ['Apple','Google','Tesla','Meta and Facebook','NVIDIA']"
   ]
  },
  {
   "cell_type": "code",
   "execution_count": 21,
   "id": "6d462658-85b6-459c-903c-28ac1f3ffc56",
   "metadata": {},
   "outputs": [],
   "source": [
    "for stock in stocks:\n",
    "\n",
    "    pass"
   ]
  },
  {
   "cell_type": "code",
   "execution_count": null,
   "id": "d12ee5cd-74f5-4173-9225-03afa0b38db4",
   "metadata": {},
   "outputs": [],
   "source": []
  }
 ],
 "metadata": {
  "kernelspec": {
   "display_name": "Python 3 (ipykernel)",
   "language": "python",
   "name": "python3"
  },
  "language_info": {
   "codemirror_mode": {
    "name": "ipython",
    "version": 3
   },
   "file_extension": ".py",
   "mimetype": "text/x-python",
   "name": "python",
   "nbconvert_exporter": "python",
   "pygments_lexer": "ipython3",
   "version": "3.11.4"
  }
 },
 "nbformat": 4,
 "nbformat_minor": 5
}
