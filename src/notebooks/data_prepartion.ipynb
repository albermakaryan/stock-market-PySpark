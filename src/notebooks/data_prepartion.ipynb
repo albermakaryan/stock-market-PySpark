{
 "cells": [
  {
   "cell_type": "code",
   "execution_count": 1,
   "id": "f2dabf1c-50b4-438e-841c-da9642d73da4",
   "metadata": {},
   "outputs": [],
   "source": [
    "from pyspark.sql import SparkSession\n",
    "import pyspark.sql.functions as F"
   ]
  },
  {
   "cell_type": "code",
   "execution_count": 2,
   "id": "ecac3f27-d48d-4960-9798-2457db352f49",
   "metadata": {},
   "outputs": [
    {
     "name": "stderr",
     "output_type": "stream",
     "text": [
      "24/04/19 00:21:01 WARN Utils: Your hostname, alber-victus resolves to a loopback address: 127.0.1.1; using 192.168.1.25 instead (on interface wlp4s0)\n",
      "24/04/19 00:21:01 WARN Utils: Set SPARK_LOCAL_IP if you need to bind to another address\n",
      "Setting default log level to \"WARN\".\n",
      "To adjust logging level use sc.setLogLevel(newLevel). For SparkR, use setLogLevel(newLevel).\n",
      "24/04/19 00:21:02 WARN NativeCodeLoader: Unable to load native-hadoop library for your platform... using builtin-java classes where applicable\n"
     ]
    }
   ],
   "source": [
    "spark = SparkSession.builder.appName(\"data\").getOrCreate()"
   ]
  },
  {
   "cell_type": "code",
   "execution_count": 3,
   "id": "6ad81ba0-edd1-47fd-b19f-ed58f7370338",
   "metadata": {},
   "outputs": [
    {
     "name": "stderr",
     "output_type": "stream",
     "text": [
      "                                                                                \r"
     ]
    }
   ],
   "source": [
    "df = spark.read.option(\"inferschema\",\"true\").option(\"header\",\"true\").json(\"../../data/json/NVIDIA/\")"
   ]
  },
  {
   "cell_type": "code",
   "execution_count": 4,
   "id": "d0a82993-9ca6-464a-9ece-025854cb5e13",
   "metadata": {},
   "outputs": [
    {
     "name": "stderr",
     "output_type": "stream",
     "text": [
      "                                                                                \r"
     ]
    }
   ],
   "source": [
    "df_pd = df.toPandas()"
   ]
  },
  {
   "cell_type": "code",
   "execution_count": 9,
   "id": "2269ccf8-862e-4375-9ff4-3d9deeedc920",
   "metadata": {},
   "outputs": [
    {
     "name": "stdout",
     "output_type": "stream",
     "text": [
      "+--------------------+--------------------+--------------------+--------------------+--------------------+--------------------+--------------------+\n",
      "|             article|         description|      published date|           publisher|       publisher_url|               title|                 url|\n",
      "+--------------------+--------------------+--------------------+--------------------+--------------------+--------------------+--------------------+\n",
      "|3.53 -13%\\n\\n3.54...|NVIDIA GeForce RT...|Fri, 17 Dec 2021 ...|   Notebookcheck.net|https://www.noteb...|NVIDIA GeForce RT...|https://news.goog...|\n",
      "|3.12 -12%\\n\\n3.13...|NVIDIA GeForce GT...|Tue, 03 Jan 2017 ...|   Notebookcheck.net|https://www.noteb...|NVIDIA GeForce GT...|https://news.goog...|\n",
      "|3.12 -12%\\n\\n3.13...|NVIDIA GeForce GT...|Tue, 03 Jan 2017 ...|   Notebookcheck.net|https://www.noteb...|NVIDIA GeForce GT...|https://news.goog...|\n",
      "|6.69 -8%\\n\\n6.72 ...|Zotac GeForce GTX...|Thu, 05 Sep 2019 ...|   Notebookcheck.net|https://www.noteb...|Zotac GeForce GTX...|https://news.goog...|\n",
      "|11.6 -7%\\n\\n11.8 ...|NVIDIA RTX 2080 S...|Tue, 08 Jan 2019 ...|   Notebookcheck.net|https://www.noteb...|NVIDIA RTX 2080 S...|https://news.goog...|\n",
      "|The best graphics...|Best graphics car...|Wed, 10 Apr 2024 ...|            PC Gamer|https://www.pcgam...|Best graphics car...|https://news.goog...|\n",
      "|TweakTown's Ratin...|NVIDIA GeForce RT...|Wed, 19 Sep 2018 ...|           TweakTown|https://www.tweak...|NVIDIA GeForce RT...|https://news.goog...|\n",
      "|TweakTown's Ratin...|NVIDIA GeForce RT...|Wed, 19 Sep 2018 ...|           TweakTown|https://www.tweak...|NVIDIA GeForce RT...|https://news.goog...|\n",
      "|This transcript w...|Hard Fork: AI Ext...|Fri, 02 Jun 2023 ...|  The New York Times|https://www.nytim...|Hard Fork: AI Ext...|https://news.goog...|\n",
      "|Every day, cloud-...|List of available...|Thu, 16 Nov 2023 ...|     Windows Central|https://www.windo...|List of available...|https://news.goog...|\n",
      "|MLCommons today r...|MLPerf Inference ...|Wed, 05 Apr 2023 ...|             HPCwire|https://www.hpcwi...|MLPerf Inference ...|https://news.goog...|\n",
      "|MLCommons’ latest...|The Mainstreaming...|Wed, 29 Jun 2022 ...|             HPCwire|https://www.hpcwi...|The Mainstreaming...|https://news.goog...|\n",
      "|One area that is ...|Password Cracking...|Tue, 13 Jun 2017 ...|        ServeTheHome|https://www.serve...|Password Cracking...|https://news.goog...|\n",
      "|We can happily re...|Cheap graphics ca...|Fri, 05 Apr 2024 ...|            PC Gamer|https://www.pcgam...|Cheap graphics ca...|https://news.goog...|\n",
      "|The first of Metr...|Metro Exodus PC g...|Wed, 21 Aug 2019 ...|  Rock Paper Shotgun|https://www.rockp...|Metro Exodus PC g...|https://news.goog...|\n",
      "|The first of Metr...|Metro Exodus PC g...|Wed, 21 Aug 2019 ...|  Rock Paper Shotgun|https://www.rockp...|Metro Exodus PC g...|https://news.goog...|\n",
      "|Introduction\\n\\nI...|Custom Object Det...|Wed, 15 Apr 2020 ...|         Hackster.io|https://www.hacks...|Custom Object Det...|https://news.goog...|\n",
      "|Introduction\\n\\nI...|Custom Object Det...|Wed, 15 Apr 2020 ...|         Hackster.io|https://www.hacks...|Custom Object Det...|https://news.goog...|\n",
      "|Four years ago, w...|What the Arrival ...|Fri, 30 Apr 2021 ...|Data Center Knowl...|https://www.datac...|What the Arrival ...|https://news.goog...|\n",
      "|Four years ago, w...|What the Arrival ...|Fri, 30 Apr 2021 ...|Data Center Knowl...|https://www.datac...|What the Arrival ...|https://news.goog...|\n",
      "+--------------------+--------------------+--------------------+--------------------+--------------------+--------------------+--------------------+\n",
      "only showing top 20 rows\n",
      "\n"
     ]
    }
   ],
   "source": [
    "df.show()"
   ]
  },
  {
   "cell_type": "code",
   "execution_count": 13,
   "id": "56a848d6-bb5f-4b26-aa32-2f5752b435f8",
   "metadata": {},
   "outputs": [
    {
     "name": "stderr",
     "output_type": "stream",
     "text": [
      "                                                                                \r"
     ]
    },
    {
     "data": {
      "text/plain": [
       "84681"
      ]
     },
     "execution_count": 13,
     "metadata": {},
     "output_type": "execute_result"
    }
   ],
   "source": [
    "df.count()"
   ]
  },
  {
   "cell_type": "code",
   "execution_count": 19,
   "id": "094d9f84-5dd9-4d4e-b635-ceddaea70141",
   "metadata": {},
   "outputs": [
    {
     "name": "stdout",
     "output_type": "stream",
     "text": [
      "+--------------------+--------------------+--------------------+--------------------+\n",
      "|      published date|               title|             article|         description|\n",
      "+--------------------+--------------------+--------------------+--------------------+\n",
      "|Tue, 15 Jun 2021 ...|The 172 Best Appl...|Apple Arcade is a...|The 172 Best Appl...|\n",
      "|Mon, 06 Feb 2023 ...|Apple in 2022: Th...|By Jason Snell\\n\\...|Apple in 2022: Th...|\n",
      "|Mon, 07 Feb 2022 ...|Apple in 2021: Th...|By Jason Snell\\n\\...|Apple in 2021: Th...|\n",
      "|Fri, 22 Mar 2024 ...|Justice Dept. Sue...|This transcript w...|Justice Dept. Sue...|\n",
      "|Thu, 31 Mar 2022 ...|Apple in the Ente...|By Jason Snell\\n\\...|Apple in the Ente...|\n",
      "|Wed, 29 Mar 2023 ...|Apple in the Ente...|By Jason Snell\\n\\...|Apple in the Ente...|\n",
      "|Fri, 12 Apr 2024 ...|Apple Arcade game...|Apple Arcade laun...|Apple Arcade game...|\n",
      "|Sun, 17 Dec 2023 ...|Epic Games vs App...|If you buy throug...|Epic Games vs App...|\n",
      "|Wed, 12 Aug 2020 ...|Apple Watch 2015 ...|We've seen it cou...|Apple Watch 2015 ...|\n",
      "|Tue, 01 Nov 2022 ...|Apple TV Plus: Co...|Apple TV Plus, Ap...|Apple TV Plus: Co...|\n",
      "|Thu, 13 Oct 2022 ...|Apple TV+ Guide: ...|Apple has dozens ...|Apple TV+ Guide: ...|\n",
      "|Mon, 07 Oct 2019 ...|Review: macOS Cat...|Read how we test ...|Review: macOS Cat...|\n",
      "|Tue, 07 Jan 2020 ...|Defining the deca...|Apple entered the...|Defining the deca...|\n",
      "|Fri, 12 Apr 2024 ...|Apple TV+ shows a...|Apple TV+ offers ...|Apple TV+ shows a...|\n",
      "|Tue, 02 Oct 2018 ...|Here are all of t...|Apple Pay is a co...|Here are all of t...|\n",
      "|Tue, 25 Apr 2017 ...|History of Apple:...|In this feature w...|History of Apple:...|\n",
      "|Tue, 25 Apr 2017 ...|History of Apple:...|In this feature w...|History of Apple:...|\n",
      "|Wed, 15 Mar 2017 ...|Full transcript: ...|On this episode o...|Full transcript: ...|\n",
      "|Fri, 09 Jun 2023 ...|Apple's Face Comp...|This transcript w...|Apple's Face Comp...|\n",
      "|Thu, 13 Dec 2018 ...|How I Quit Apple,...|It was just befor...|How I Quit Apple,...|\n",
      "+--------------------+--------------------+--------------------+--------------------+\n",
      "only showing top 20 rows\n",
      "\n"
     ]
    }
   ],
   "source": [
    "df.select([\"published date\",\"title\",\"article\",\"description\"]).show()"
   ]
  },
  {
   "cell_type": "code",
   "execution_count": 26,
   "id": "ff0ee540-37e7-4a22-b323-c141d7a8595f",
   "metadata": {},
   "outputs": [],
   "source": [
    "ddf = spark.read.option(\"header\",\"true\").csv(\"../../model_data.csv\")"
   ]
  },
  {
   "cell_type": "code",
   "execution_count": 27,
   "id": "74507152-7005-4f4f-b0d6-a1ab94408d33",
   "metadata": {},
   "outputs": [
    {
     "name": "stdout",
     "output_type": "stream",
     "text": [
      "+--------------+--------------------+--------------------+--------------------+--------------------+---------------+\n",
      "|  Price_return|      Volumne_return|                  MA|           Volatitly|      SentimentScore|next_day_return|\n",
      "+--------------+--------------------+--------------------+--------------------+--------------------+---------------+\n",
      "|   0.011385322| 0.05462098722508979|0.005285382270812988|   2.162276004972444| -0.5100718363997517|  -0.0037142634|\n",
      "| -0.0037142634|-0.13069315300084527|0.004105349381764...|-0.00335176831959...| -0.8072812317313177| -0.00011473894|\n",
      "|-0.00011473894| 0.04940732601444986|0.002518773078918457|0.027366375109036452|  0.8639112465305594| -0.00022947788|\n",
      "|-0.00022947788| 0.11007690882134913|-0.00135282675425...| -1.4690286922740352|-0.24595484602911352|   0.0056802034|\n",
      "|  0.0056802034|-0.22087738262680567|0.001778662204742...|  0.5199886521661717|  -1.984844315473579|    0.010326266|\n",
      "|   0.010326266|  0.3616085538121996|0.005258997281392415|  1.1386585553181312|  0.8977681464394812|  -0.0050821304|\n",
      "| -0.0050821304|  0.1631829287004143|0.003641446431477...|  0.8863647342784031| -0.6383939379199718|    0.016516328|\n",
      "|   0.016516328| 0.16305608826384455|0.007253487904866536|  0.7763568635200133| 0.23853832089583857|   0.0008932352|\n",
      "|  0.0008932352|-0.09286703037211952| 0.00410914421081543| 0.20969923764339496|  0.6667596830679072|   -0.004462719|\n",
      "|  -0.004462719|   0.039485916892676|0.004315614700317383|  0.9003538338262371|  0.3150420464157482|   -0.008181155|\n",
      "|  -0.008181155|-0.16396248585200968|-0.00391687949498...|  0.5436288442636193| -1.3529949330660367|   0.0002259016|\n",
      "|  0.0002259016| 0.20585718185372914|-0.00413932402928...| 0.17378620566328754| -0.3831321071501868|   -0.015928566|\n",
      "|  -0.015928566|  0.5633682175404033|-0.00796127319335...|  0.6566404424550543|  0.0362229080270457|   -0.017850995|\n",
      "|  -0.017850995|  -0.187380515838928|-0.01118455330530...|  0.5140665328719528| 0.22412402107072876|   0.0023376942|\n",
      "|  0.0023376942|-0.05745382744588...|-0.01048062245051066| 0.32166062899723274|  2.6440601527804946|   -0.020698428|\n",
      "|  -0.020698428| 0.29372812507983537|-0.01207057634989...|  0.8312917089774449|  1.9513436023168647|  -0.0058943033|\n",
      "| -0.0058943033|-0.09068253805262205|-0.00808501243591...|  0.5217994244635146| 0.44510890118638596|   0.0027549267|\n",
      "|  0.0027549267|-0.29467601339466043|-0.00794593493143...|  1.3374084756866282|   2.010193098133022|    0.002090454|\n",
      "|   0.002090454|  0.4541994956725752|-0.00034964084625...| -0.8197763233969515| -0.5266755118294258|   -0.043390155|\n",
      "|  -0.043390155|  0.8334180238319062|-0.01284825801849...| -1.0598009756643785|  0.2167420157314713|    -0.02498436|\n",
      "+--------------+--------------------+--------------------+--------------------+--------------------+---------------+\n",
      "only showing top 20 rows\n",
      "\n"
     ]
    }
   ],
   "source": [
    "ddf.show()"
   ]
  },
  {
   "cell_type": "code",
   "execution_count": null,
   "id": "07581c33-667d-4ec5-90ed-f437bd9e0ec3",
   "metadata": {},
   "outputs": [],
   "source": []
  }
 ],
 "metadata": {
  "kernelspec": {
   "display_name": "big_data_project_kernel",
   "language": "python",
   "name": "big_data_project_kernel"
  },
  "language_info": {
   "codemirror_mode": {
    "name": "ipython",
    "version": 3
   },
   "file_extension": ".py",
   "mimetype": "text/x-python",
   "name": "python",
   "nbconvert_exporter": "python",
   "pygments_lexer": "ipython3",
   "version": "3.11.4"
  }
 },
 "nbformat": 4,
 "nbformat_minor": 5
}
