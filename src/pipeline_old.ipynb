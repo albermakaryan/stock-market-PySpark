{
 "cells": [
  {
   "cell_type": "code",
   "execution_count": 5,
   "id": "abcd5a44-2c7c-4be8-ab54-c8b8216521ee",
   "metadata": {},
   "outputs": [],
   "source": [
    "import sparknlp\n",
    "import numpy as np\n",
    "# Import the required modules and classes\n",
    "from sparknlp.base import DocumentAssembler, Pipeline, Finisher\n",
    "\n",
    "from sparknlp.annotator import (\n",
    "    SentenceDetector,\n",
    "    Tokenizer,\n",
    "    Lemmatizer,\n",
    "    SentimentDetector\n",
    ")\n",
    "import pyspark.sql.functions as F\n",
    "# Start Spark Session\n",
    "\n",
    "from sparknlp.pretrained import PretrainedPipeline\n",
    "import afinn\n",
    "from pyspark.sql import types\n",
    "import yahooquery as yq\n",
    "import matplotlib.pyplot as plt\n",
    "import pandas as pd\n",
    "import datetime as dt\n",
    "from sklearn.preprocessing import StandardScaler,MinMaxScaler\n",
    "import seaborn as sns"
   ]
  },
  {
   "cell_type": "code",
   "execution_count": 6,
   "id": "798235c7-e4f4-4347-8593-2669296d38d2",
   "metadata": {},
   "outputs": [
    {
     "name": "stdout",
     "output_type": "stream",
     "text": [
      "Warning::Spark Session already created, some configs may not take.\n"
     ]
    }
   ],
   "source": [
    "spark = sparknlp.start()"
   ]
  },
  {
   "cell_type": "code",
   "execution_count": 7,
   "id": "8f427d9e-9a47-429d-89dc-0781d5d6f1bf",
   "metadata": {},
   "outputs": [
    {
     "name": "stdout",
     "output_type": "stream",
     "text": [
      "--2024-05-11 19:05:35--  https://s3.amazonaws.com/auxdata.johnsnowlabs.com/public/resources/en/lemma-corpus-small/lemmas_small.txt\n",
      "Resolving s3.amazonaws.com (s3.amazonaws.com)... 16.182.104.8, 52.217.174.104, 16.182.99.0, ...\n",
      "Connecting to s3.amazonaws.com (s3.amazonaws.com)|16.182.104.8|:443... connected.\n",
      "HTTP request sent, awaiting response... 304 Not Modified\n",
      "File ‘/tmp/lemmas_small.txt’ not modified on server. Omitting download.\n",
      "\n",
      "--2024-05-11 19:05:35--  https://s3.amazonaws.com/auxdata.johnsnowlabs.com/public/resources/en/sentiment-corpus/default-sentiment-dict.txt\n",
      "Resolving s3.amazonaws.com (s3.amazonaws.com)... 52.217.174.104, 3.5.24.43, 16.182.104.8, ...\n",
      "Connecting to s3.amazonaws.com (s3.amazonaws.com)|52.217.174.104|:443... connected.\n",
      "HTTP request sent, awaiting response... 304 Not Modified\n",
      "File ‘/tmp/default-sentiment-dict.txt’ not modified on server. Omitting download.\n",
      "\n"
     ]
    }
   ],
   "source": [
    "! wget -N https://s3.amazonaws.com/auxdata.johnsnowlabs.com/public/resources/en/lemma-corpus-small/lemmas_small.txt -P /tmp\n",
    "! wget -N https://s3.amazonaws.com/auxdata.johnsnowlabs.com/public/resources/en/sentiment-corpus/default-sentiment-dict.txt -P /tmp"
   ]
  },
  {
   "cell_type": "code",
   "execution_count": 8,
   "id": "71f23d7c-82d6-48a9-8472-b2fb7d983837",
   "metadata": {},
   "outputs": [],
   "source": [
    "\n",
    "\n",
    "# Step 1: Transforms raw texts to `document` annotation\n",
    "document_assembler = (\n",
    "    DocumentAssembler() \\\n",
    "    .setInputCol(\"article\") \\\n",
    "    .setOutputCol(\"document\")\n",
    ")\n",
    "\n",
    "# Step 2: Sentence Detection\n",
    "sentence_detector = SentenceDetector().setInputCols([\"document\"]).setOutputCol(\"sentence\")\n",
    "\n",
    "# Step 3: Tokenization\n",
    "tokenizer = Tokenizer().setInputCols([\"sentence\"]).setOutputCol(\"token\")\n",
    "\n",
    "# Step 4: Lemmatization\n",
    "lemmatizer= Lemmatizer().setInputCols(\"token\").setOutputCol(\"lemma\") \\\n",
    "                        .setDictionary(\"lemmas_small.txt\", key_delimiter=\"->\", value_delimiter=\"\\t\")\n",
    "\n",
    "# Step 5: Sentiment Detection\n",
    "sentiment_detector= (\n",
    "    SentimentDetector() \\\n",
    "    .setInputCols([\"lemma\", \"sentence\"]) \\\n",
    "    .setOutputCol(\"sentiment_score\") \\\n",
    "    .setDictionary(\"default-sentiment-dict.txt\", \",\")\n",
    ")\n",
    "\n",
    "# Step 6: Finisher\n",
    "finisher= (\n",
    "    Finisher() \\\n",
    "    .setInputCols([\"sentiment_score\"]).setOutputCols(\"sentiment\")\n",
    ")\n",
    "\n",
    "# Define the pipeline\n",
    "pipeline = Pipeline(\n",
    "    stages=[\n",
    "        document_assembler,\n",
    "        sentence_detector, \n",
    "        tokenizer, \n",
    "        lemmatizer, \n",
    "        sentiment_detector, \n",
    "        finisher\n",
    "    ]\n",
    ")\n",
    "\n",
    "def compute_with_afinn(text):\n",
    "\n",
    "    return afinn.Afinn().score(text)\n",
    "\n",
    "compute_sentiment_score_udf = F.udf(compute_with_afinn, types.FloatType())"
   ]
  },
  {
   "cell_type": "code",
   "execution_count": 9,
   "id": "453dff29-cc2f-4ee0-87bb-4593cd4a683f",
   "metadata": {},
   "outputs": [
    {
     "name": "stderr",
     "output_type": "stream",
     "text": [
      "ERROR:root:KeyboardInterrupt while sending command.                             \n",
      "Traceback (most recent call last):\n",
      "  File \"/home/alber/.local/lib/python3.11/site-packages/py4j/java_gateway.py\", line 1038, in send_command\n",
      "    response = connection.send_command(command)\n",
      "               ^^^^^^^^^^^^^^^^^^^^^^^^^^^^^^^^\n",
      "  File \"/home/alber/.local/lib/python3.11/site-packages/py4j/clientserver.py\", line 511, in send_command\n",
      "    answer = smart_decode(self.stream.readline()[:-1])\n",
      "                          ^^^^^^^^^^^^^^^^^^^^^^\n",
      "  File \"/usr/lib/python3.11/socket.py\", line 706, in readinto\n",
      "    return self._sock.recv_into(b)\n",
      "           ^^^^^^^^^^^^^^^^^^^^^^^\n",
      "KeyboardInterrupt\n",
      "\n",
      "KeyboardInterrupt\n",
      "\n",
      "                                                                                \r"
     ]
    }
   ],
   "source": [
    "# Create a spark Data Frame with an example sentence\n",
    "data = spark.createDataFrame(\n",
    "    [\n",
    "        [\n",
    "            \"The restaurant staff is really nice\"\n",
    "        ]\n",
    "    ]\n",
    ").toDF(\"text\") # use the column name `text` defined in the pipeline as input\n",
    "\n",
    "data = spark.read.option(\"header\",\"true\").json(\"../data/json/NVIDIA/\")\n",
    "data = data.select(\"published date\",\"article\")\n",
    "\n",
    "# Fit-transform to get predictions\n"
   ]
  },
  {
   "cell_type": "code",
   "execution_count": 45,
   "id": "349a9106-20ee-425e-90ba-09a472db7e7f",
   "metadata": {},
   "outputs": [],
   "source": [
    "result = pipeline.fit(data).transform(data)"
   ]
  },
  {
   "cell_type": "code",
   "execution_count": 46,
   "id": "fb1f5682-d4ef-45c9-b2ae-90a0669f14e3",
   "metadata": {},
   "outputs": [
    {
     "data": {
      "text/plain": [
       "['published date', 'article', 'sentiment']"
      ]
     },
     "execution_count": 46,
     "metadata": {},
     "output_type": "execute_result"
    }
   ],
   "source": [
    "result.columns"
   ]
  },
  {
   "cell_type": "code",
   "execution_count": 48,
   "id": "1282c27e-7ca3-4a0d-b6e4-b40501e25627",
   "metadata": {},
   "outputs": [],
   "source": [
    "result = result.withColumn(\"afinn_sentiment\",compute_sentiment_score_udf(F.col('article')))"
   ]
  },
  {
   "cell_type": "code",
   "execution_count": 58,
   "id": "be7aa1cb-c34e-4380-b47e-0bfd7b3b12be",
   "metadata": {},
   "outputs": [
    {
     "name": "stderr",
     "output_type": "stream",
     "text": [
      "                                                                                \r"
     ]
    }
   ],
   "source": [
    "df = result.toPandas()\n",
    "df['sentiment'] = df['sentiment'].apply(lambda x: x[0])\n",
    "df['sentiment'] = np.where(df['sentiment'] == 'positive',1,np.where(df['sentiment']=='negative',-1,0))\n",
    "df['published date'] = df['published date'].apply(lambda x: \" \".join(x.split(\",\")[1].split(\" \")[:4]).strip())"
   ]
  },
  {
   "cell_type": "code",
   "execution_count": 59,
   "id": "4ef9e54e-7a8e-4c18-80b2-4ed9f99caf25",
   "metadata": {},
   "outputs": [
    {
     "data": {
      "text/html": [
       "<div>\n",
       "<style scoped>\n",
       "    .dataframe tbody tr th:only-of-type {\n",
       "        vertical-align: middle;\n",
       "    }\n",
       "\n",
       "    .dataframe tbody tr th {\n",
       "        vertical-align: top;\n",
       "    }\n",
       "\n",
       "    .dataframe thead th {\n",
       "        text-align: right;\n",
       "    }\n",
       "</style>\n",
       "<table border=\"1\" class=\"dataframe\">\n",
       "  <thead>\n",
       "    <tr style=\"text-align: right;\">\n",
       "      <th></th>\n",
       "      <th>published date</th>\n",
       "      <th>article</th>\n",
       "      <th>sentiment</th>\n",
       "      <th>afinn_sentiment</th>\n",
       "    </tr>\n",
       "  </thead>\n",
       "  <tbody>\n",
       "    <tr>\n",
       "      <th>0</th>\n",
       "      <td>17 Dec 2021</td>\n",
       "      <td>3.53 -13%\\n\\n3.54 -13%\\n\\n3.6 -11%\\n\\n3.61 -11...</td>\n",
       "      <td>1</td>\n",
       "      <td>-14.0</td>\n",
       "    </tr>\n",
       "    <tr>\n",
       "      <th>1</th>\n",
       "      <td>03 Jan 2017</td>\n",
       "      <td>3.12 -12%\\n\\n3.13 -11%\\n\\n3.16 -10%\\n\\n3.34 -5...</td>\n",
       "      <td>1</td>\n",
       "      <td>-83.0</td>\n",
       "    </tr>\n",
       "    <tr>\n",
       "      <th>2</th>\n",
       "      <td>03 Jan 2017</td>\n",
       "      <td>3.12 -12%\\n\\n3.13 -11%\\n\\n3.16 -10%\\n\\n3.34 -5...</td>\n",
       "      <td>1</td>\n",
       "      <td>-83.0</td>\n",
       "    </tr>\n",
       "    <tr>\n",
       "      <th>3</th>\n",
       "      <td>05 Sep 2019</td>\n",
       "      <td>6.69 -8%\\n\\n6.72 -8%\\n\\n6.75 -8%\\n\\n6.76 -7%\\n...</td>\n",
       "      <td>1</td>\n",
       "      <td>-98.0</td>\n",
       "    </tr>\n",
       "    <tr>\n",
       "      <th>4</th>\n",
       "      <td>08 Jan 2019</td>\n",
       "      <td>11.6 -7%\\n\\n11.8 -6%\\n\\n11.9 -5%\\n\\n12 -4%\\n\\n...</td>\n",
       "      <td>1</td>\n",
       "      <td>1734.0</td>\n",
       "    </tr>\n",
       "    <tr>\n",
       "      <th>...</th>\n",
       "      <td>...</td>\n",
       "      <td>...</td>\n",
       "      <td>...</td>\n",
       "      <td>...</td>\n",
       "    </tr>\n",
       "    <tr>\n",
       "      <th>45116</th>\n",
       "      <td>10 Dec 2019</td>\n",
       "      <td></td>\n",
       "      <td>1</td>\n",
       "      <td>0.0</td>\n",
       "    </tr>\n",
       "    <tr>\n",
       "      <th>45117</th>\n",
       "      <td>23 Sep 2023</td>\n",
       "      <td>\"NaN\"</td>\n",
       "      <td>1</td>\n",
       "      <td>0.0</td>\n",
       "    </tr>\n",
       "    <tr>\n",
       "      <th>45118</th>\n",
       "      <td>27 Apr 2021</td>\n",
       "      <td></td>\n",
       "      <td>1</td>\n",
       "      <td>0.0</td>\n",
       "    </tr>\n",
       "    <tr>\n",
       "      <th>45119</th>\n",
       "      <td>08 Mar 2017</td>\n",
       "      <td></td>\n",
       "      <td>1</td>\n",
       "      <td>0.0</td>\n",
       "    </tr>\n",
       "    <tr>\n",
       "      <th>45120</th>\n",
       "      <td>08 Mar 2017</td>\n",
       "      <td></td>\n",
       "      <td>1</td>\n",
       "      <td>0.0</td>\n",
       "    </tr>\n",
       "  </tbody>\n",
       "</table>\n",
       "<p>45121 rows × 4 columns</p>\n",
       "</div>"
      ],
      "text/plain": [
       "      published date                                            article  \\\n",
       "0        17 Dec 2021  3.53 -13%\\n\\n3.54 -13%\\n\\n3.6 -11%\\n\\n3.61 -11...   \n",
       "1        03 Jan 2017  3.12 -12%\\n\\n3.13 -11%\\n\\n3.16 -10%\\n\\n3.34 -5...   \n",
       "2        03 Jan 2017  3.12 -12%\\n\\n3.13 -11%\\n\\n3.16 -10%\\n\\n3.34 -5...   \n",
       "3        05 Sep 2019  6.69 -8%\\n\\n6.72 -8%\\n\\n6.75 -8%\\n\\n6.76 -7%\\n...   \n",
       "4        08 Jan 2019  11.6 -7%\\n\\n11.8 -6%\\n\\n11.9 -5%\\n\\n12 -4%\\n\\n...   \n",
       "...              ...                                                ...   \n",
       "45116    10 Dec 2019                                                      \n",
       "45117    23 Sep 2023                                              \"NaN\"   \n",
       "45118    27 Apr 2021                                                      \n",
       "45119    08 Mar 2017                                                      \n",
       "45120    08 Mar 2017                                                      \n",
       "\n",
       "       sentiment  afinn_sentiment  \n",
       "0              1            -14.0  \n",
       "1              1            -83.0  \n",
       "2              1            -83.0  \n",
       "3              1            -98.0  \n",
       "4              1           1734.0  \n",
       "...          ...              ...  \n",
       "45116          1              0.0  \n",
       "45117          1              0.0  \n",
       "45118          1              0.0  \n",
       "45119          1              0.0  \n",
       "45120          1              0.0  \n",
       "\n",
       "[45121 rows x 4 columns]"
      ]
     },
     "execution_count": 59,
     "metadata": {},
     "output_type": "execute_result"
    }
   ],
   "source": [
    "df"
   ]
  },
  {
   "cell_type": "code",
   "execution_count": 70,
   "id": "3ec0cb4e-3858-4d71-ae35-c60f6696bffa",
   "metadata": {},
   "outputs": [],
   "source": []
  },
  {
   "cell_type": "code",
   "execution_count": 75,
   "id": "0a3b4514-c8cd-4715-8bce-8d0afd7bde04",
   "metadata": {},
   "outputs": [],
   "source": [
    "min_max = MinMaxScaler((-1,1))\n",
    "std_scaler = StandardScaler()\n"
   ]
  },
  {
   "cell_type": "code",
   "execution_count": 91,
   "id": "3ea3349f-d11b-46af-b8dc-25cd13ca67c8",
   "metadata": {},
   "outputs": [],
   "source": [
    "model_df = df.copy()\n",
    "model_df['date'] = model_df['published date'].apply(lambda x: dt.datetime.strptime(x, \"%d %b %Y\").strftime(\"%Y-%m-%d\"))\n",
    "\n",
    "model_df = model_df[['date','sentiment','afinn_sentiment']]\n",
    "# date_obj = \n",
    "\n",
    "# Convert to the desired format\n",
    "# formatted_date = \n",
    "# pd.to_datetime(model_df['published date'],format=\"%Y-%m-%d\")\n",
    "\n",
    "min_max_results = min_max.fit_transform(model_df['afinn_sentiment'].values.reshape(-1,1))\n",
    "std_results = std_scaler.fit_transform(model_df['afinn_sentiment'].values.reshape(-1,1))\n",
    "\n",
    "model_df['min_max_afinn'] = min_max_results\n",
    "model_df['std_afinn'] = std_results\n",
    "model_df['div_to_max'] = model_df['afinn_sentiment']/model_df['afinn_sentiment'].max()\n",
    "model_df = model_df.groupby(\"date\").sum().reset_index()"
   ]
  },
  {
   "cell_type": "code",
   "execution_count": 92,
   "id": "fff0a374-4004-46d3-ad53-f80fce970a54",
   "metadata": {},
   "outputs": [
    {
     "data": {
      "text/html": [
       "<div>\n",
       "<style scoped>\n",
       "    .dataframe tbody tr th:only-of-type {\n",
       "        vertical-align: middle;\n",
       "    }\n",
       "\n",
       "    .dataframe tbody tr th {\n",
       "        vertical-align: top;\n",
       "    }\n",
       "\n",
       "    .dataframe thead th {\n",
       "        text-align: right;\n",
       "    }\n",
       "</style>\n",
       "<table border=\"1\" class=\"dataframe\">\n",
       "  <thead>\n",
       "    <tr style=\"text-align: right;\">\n",
       "      <th></th>\n",
       "      <th>date</th>\n",
       "      <th>sentiment</th>\n",
       "      <th>afinn_sentiment</th>\n",
       "      <th>min_max_afinn</th>\n",
       "      <th>std_afinn</th>\n",
       "      <th>div_to_max</th>\n",
       "    </tr>\n",
       "  </thead>\n",
       "  <tbody>\n",
       "    <tr>\n",
       "      <th>0</th>\n",
       "      <td>2017-01-02</td>\n",
       "      <td>1.000000</td>\n",
       "      <td>35.000000</td>\n",
       "      <td>-0.674717</td>\n",
       "      <td>0.160808</td>\n",
       "      <td>0.020185</td>\n",
       "    </tr>\n",
       "    <tr>\n",
       "      <th>1</th>\n",
       "      <td>2017-01-03</td>\n",
       "      <td>0.666667</td>\n",
       "      <td>13.500000</td>\n",
       "      <td>-0.695909</td>\n",
       "      <td>-0.342693</td>\n",
       "      <td>0.007785</td>\n",
       "    </tr>\n",
       "    <tr>\n",
       "      <th>2</th>\n",
       "      <td>2017-01-04</td>\n",
       "      <td>1.000000</td>\n",
       "      <td>19.590910</td>\n",
       "      <td>-0.689905</td>\n",
       "      <td>-0.200052</td>\n",
       "      <td>0.011298</td>\n",
       "    </tr>\n",
       "    <tr>\n",
       "      <th>3</th>\n",
       "      <td>2017-01-05</td>\n",
       "      <td>0.913043</td>\n",
       "      <td>23.108696</td>\n",
       "      <td>-0.686438</td>\n",
       "      <td>-0.117671</td>\n",
       "      <td>0.013327</td>\n",
       "    </tr>\n",
       "    <tr>\n",
       "      <th>4</th>\n",
       "      <td>2017-01-06</td>\n",
       "      <td>1.000000</td>\n",
       "      <td>17.428572</td>\n",
       "      <td>-0.692037</td>\n",
       "      <td>-0.250691</td>\n",
       "      <td>0.010051</td>\n",
       "    </tr>\n",
       "    <tr>\n",
       "      <th>...</th>\n",
       "      <td>...</td>\n",
       "      <td>...</td>\n",
       "      <td>...</td>\n",
       "      <td>...</td>\n",
       "      <td>...</td>\n",
       "      <td>...</td>\n",
       "    </tr>\n",
       "    <tr>\n",
       "      <th>2565</th>\n",
       "      <td>2024-04-13</td>\n",
       "      <td>0.692308</td>\n",
       "      <td>29.538462</td>\n",
       "      <td>-0.680100</td>\n",
       "      <td>0.032906</td>\n",
       "      <td>0.017035</td>\n",
       "    </tr>\n",
       "    <tr>\n",
       "      <th>2566</th>\n",
       "      <td>2024-04-14</td>\n",
       "      <td>0.958333</td>\n",
       "      <td>39.750000</td>\n",
       "      <td>-0.670034</td>\n",
       "      <td>0.272046</td>\n",
       "      <td>0.022924</td>\n",
       "    </tr>\n",
       "    <tr>\n",
       "      <th>2567</th>\n",
       "      <td>2024-04-15</td>\n",
       "      <td>1.000000</td>\n",
       "      <td>7.307693</td>\n",
       "      <td>-0.702013</td>\n",
       "      <td>-0.487709</td>\n",
       "      <td>0.004214</td>\n",
       "    </tr>\n",
       "    <tr>\n",
       "      <th>2568</th>\n",
       "      <td>2024-04-16</td>\n",
       "      <td>0.910112</td>\n",
       "      <td>21.235954</td>\n",
       "      <td>-0.688284</td>\n",
       "      <td>-0.161528</td>\n",
       "      <td>0.012247</td>\n",
       "    </tr>\n",
       "    <tr>\n",
       "      <th>2569</th>\n",
       "      <td>2024-04-17</td>\n",
       "      <td>1.000000</td>\n",
       "      <td>11.545455</td>\n",
       "      <td>-0.697836</td>\n",
       "      <td>-0.388466</td>\n",
       "      <td>0.006658</td>\n",
       "    </tr>\n",
       "  </tbody>\n",
       "</table>\n",
       "<p>2570 rows × 6 columns</p>\n",
       "</div>"
      ],
      "text/plain": [
       "            date  sentiment  afinn_sentiment  min_max_afinn  std_afinn  \\\n",
       "0     2017-01-02   1.000000        35.000000      -0.674717   0.160808   \n",
       "1     2017-01-03   0.666667        13.500000      -0.695909  -0.342693   \n",
       "2     2017-01-04   1.000000        19.590910      -0.689905  -0.200052   \n",
       "3     2017-01-05   0.913043        23.108696      -0.686438  -0.117671   \n",
       "4     2017-01-06   1.000000        17.428572      -0.692037  -0.250691   \n",
       "...          ...        ...              ...            ...        ...   \n",
       "2565  2024-04-13   0.692308        29.538462      -0.680100   0.032906   \n",
       "2566  2024-04-14   0.958333        39.750000      -0.670034   0.272046   \n",
       "2567  2024-04-15   1.000000         7.307693      -0.702013  -0.487709   \n",
       "2568  2024-04-16   0.910112        21.235954      -0.688284  -0.161528   \n",
       "2569  2024-04-17   1.000000        11.545455      -0.697836  -0.388466   \n",
       "\n",
       "      div_to_max  \n",
       "0       0.020185  \n",
       "1       0.007785  \n",
       "2       0.011298  \n",
       "3       0.013327  \n",
       "4       0.010051  \n",
       "...          ...  \n",
       "2565    0.017035  \n",
       "2566    0.022924  \n",
       "2567    0.004214  \n",
       "2568    0.012247  \n",
       "2569    0.006658  \n",
       "\n",
       "[2570 rows x 6 columns]"
      ]
     },
     "execution_count": 92,
     "metadata": {},
     "output_type": "execute_result"
    }
   ],
   "source": [
    "model_df"
   ]
  },
  {
   "cell_type": "code",
   "execution_count": 95,
   "id": "0adce38a-a057-40fa-8153-fd51244364c5",
   "metadata": {},
   "outputs": [],
   "source": [
    "model_df['date'] = pd.to_datetime(model_df['date'])"
   ]
  },
  {
   "cell_type": "code",
   "execution_count": 98,
   "id": "89aece17-7c07-4997-a809-045ead3d461c",
   "metadata": {},
   "outputs": [
    {
     "data": {
      "text/plain": [
       "(Timestamp('2024-04-17 00:00:00'), Timestamp('2017-01-02 00:00:00'))"
      ]
     },
     "execution_count": 98,
     "metadata": {},
     "output_type": "execute_result"
    }
   ],
   "source": [
    "model_df.date.max(),model_df.date.min()\n"
   ]
  },
  {
   "cell_type": "code",
   "execution_count": 99,
   "id": "cb863083-2204-4fb0-9fd6-1401c508088e",
   "metadata": {},
   "outputs": [
    {
     "name": "stderr",
     "output_type": "stream",
     "text": [
      "WARNING:urllib3.connectionpool:Retrying (Retry(total=4, connect=None, read=None, redirect=None, status=None)) after connection broken by 'ReadTimeoutError(\"HTTPSConnectionPool(host='finance.yahoo.com', port=443): Read timed out. (read timeout=5)\")': /\n",
      "WARNING:urllib3.connectionpool:Retrying (Retry(total=3, connect=None, read=None, redirect=None, status=None)) after connection broken by 'NewConnectionError('<urllib3.connection.HTTPSConnection object at 0x7f6f905229d0>: Failed to establish a new connection: [Errno -3] Temporary failure in name resolution')': /\n",
      "WARNING:urllib3.connectionpool:Retrying (Retry(total=2, connect=None, read=None, redirect=None, status=None)) after connection broken by 'NewConnectionError('<urllib3.connection.HTTPSConnection object at 0x7f6f90520790>: Failed to establish a new connection: [Errno -3] Temporary failure in name resolution')': /\n",
      "/home/alber/.local/lib/python3.11/site-packages/yahooquery/utils/__init__.py:1470: FutureWarning: 'S' is deprecated and will be removed in a future version. Please use 's' instead of 'S'.\n",
      "  has_live_indice = index_utc[-1] >= last_trade - pd.Timedelta(2, \"S\")\n",
      "/home/alber/.local/lib/python3.11/site-packages/yahooquery/ticker.py:1333: FutureWarning: A value is trying to be set on a copy of a DataFrame or Series through chained assignment using an inplace method.\n",
      "The behavior will change in pandas 3.0. This inplace method will never work because the intermediate object on which we are setting values always behaves as a copy.\n",
      "\n",
      "For example, when doing 'df[col].method(value, inplace=True)', try using 'df.method({col: value}, inplace=True)' or df[col] = df[col].method(value) instead, to perform the operation inplace on the original object.\n",
      "\n",
      "\n",
      "  df[\"dividends\"].fillna(0, inplace=True)\n",
      "/home/alber/.local/lib/python3.11/site-packages/yahooquery/ticker.py:1335: FutureWarning: A value is trying to be set on a copy of a DataFrame or Series through chained assignment using an inplace method.\n",
      "The behavior will change in pandas 3.0. This inplace method will never work because the intermediate object on which we are setting values always behaves as a copy.\n",
      "\n",
      "For example, when doing 'df[col].method(value, inplace=True)', try using 'df.method({col: value}, inplace=True)' or df[col] = df[col].method(value) instead, to perform the operation inplace on the original object.\n",
      "\n",
      "\n",
      "  df[\"splits\"].fillna(0, inplace=True)\n"
     ]
    },
    {
     "data": {
      "text/html": [
       "<div>\n",
       "<style scoped>\n",
       "    .dataframe tbody tr th:only-of-type {\n",
       "        vertical-align: middle;\n",
       "    }\n",
       "\n",
       "    .dataframe tbody tr th {\n",
       "        vertical-align: top;\n",
       "    }\n",
       "\n",
       "    .dataframe thead th {\n",
       "        text-align: right;\n",
       "    }\n",
       "</style>\n",
       "<table border=\"1\" class=\"dataframe\">\n",
       "  <thead>\n",
       "    <tr style=\"text-align: right;\">\n",
       "      <th></th>\n",
       "      <th></th>\n",
       "      <th>open</th>\n",
       "      <th>high</th>\n",
       "      <th>low</th>\n",
       "      <th>close</th>\n",
       "      <th>volume</th>\n",
       "      <th>adjclose</th>\n",
       "      <th>dividends</th>\n",
       "      <th>splits</th>\n",
       "    </tr>\n",
       "    <tr>\n",
       "      <th>symbol</th>\n",
       "      <th>date</th>\n",
       "      <th></th>\n",
       "      <th></th>\n",
       "      <th></th>\n",
       "      <th></th>\n",
       "      <th></th>\n",
       "      <th></th>\n",
       "      <th></th>\n",
       "      <th></th>\n",
       "    </tr>\n",
       "  </thead>\n",
       "  <tbody>\n",
       "    <tr>\n",
       "      <th rowspan=\"11\" valign=\"top\">NVDA</th>\n",
       "      <th>2017-01-03</th>\n",
       "      <td>26.100000</td>\n",
       "      <td>26.592501</td>\n",
       "      <td>24.844999</td>\n",
       "      <td>25.502501</td>\n",
       "      <td>150199600</td>\n",
       "      <td>25.134892</td>\n",
       "      <td>0.0</td>\n",
       "      <td>0.0</td>\n",
       "    </tr>\n",
       "    <tr>\n",
       "      <th>2017-01-04</th>\n",
       "      <td>25.850000</td>\n",
       "      <td>26.375000</td>\n",
       "      <td>25.382500</td>\n",
       "      <td>26.097500</td>\n",
       "      <td>119922000</td>\n",
       "      <td>25.721317</td>\n",
       "      <td>0.0</td>\n",
       "      <td>0.0</td>\n",
       "    </tr>\n",
       "    <tr>\n",
       "      <th>2017-01-05</th>\n",
       "      <td>26.132500</td>\n",
       "      <td>26.455000</td>\n",
       "      <td>25.262501</td>\n",
       "      <td>25.434999</td>\n",
       "      <td>98429600</td>\n",
       "      <td>25.068359</td>\n",
       "      <td>0.0</td>\n",
       "      <td>0.0</td>\n",
       "    </tr>\n",
       "    <tr>\n",
       "      <th>2017-01-06</th>\n",
       "      <td>25.712500</td>\n",
       "      <td>26.062500</td>\n",
       "      <td>25.299999</td>\n",
       "      <td>25.775000</td>\n",
       "      <td>82285600</td>\n",
       "      <td>25.403456</td>\n",
       "      <td>0.0</td>\n",
       "      <td>0.0</td>\n",
       "    </tr>\n",
       "    <tr>\n",
       "      <th>2017-01-09</th>\n",
       "      <td>25.875000</td>\n",
       "      <td>27.000000</td>\n",
       "      <td>25.875000</td>\n",
       "      <td>26.820000</td>\n",
       "      <td>91624800</td>\n",
       "      <td>26.433395</td>\n",
       "      <td>0.0</td>\n",
       "      <td>0.0</td>\n",
       "    </tr>\n",
       "    <tr>\n",
       "      <th>...</th>\n",
       "      <td>...</td>\n",
       "      <td>...</td>\n",
       "      <td>...</td>\n",
       "      <td>...</td>\n",
       "      <td>...</td>\n",
       "      <td>...</td>\n",
       "      <td>...</td>\n",
       "      <td>...</td>\n",
       "    </tr>\n",
       "    <tr>\n",
       "      <th>2024-05-06</th>\n",
       "      <td>893.900024</td>\n",
       "      <td>922.200012</td>\n",
       "      <td>890.549988</td>\n",
       "      <td>921.400024</td>\n",
       "      <td>37620300</td>\n",
       "      <td>921.400024</td>\n",
       "      <td>0.0</td>\n",
       "      <td>0.0</td>\n",
       "    </tr>\n",
       "    <tr>\n",
       "      <th>2024-05-07</th>\n",
       "      <td>910.979980</td>\n",
       "      <td>917.809998</td>\n",
       "      <td>823.250000</td>\n",
       "      <td>905.539978</td>\n",
       "      <td>43734200</td>\n",
       "      <td>905.539978</td>\n",
       "      <td>0.0</td>\n",
       "      <td>0.0</td>\n",
       "    </tr>\n",
       "    <tr>\n",
       "      <th>2024-05-08</th>\n",
       "      <td>894.830017</td>\n",
       "      <td>911.940002</td>\n",
       "      <td>894.200012</td>\n",
       "      <td>904.119995</td>\n",
       "      <td>32572100</td>\n",
       "      <td>904.119995</td>\n",
       "      <td>0.0</td>\n",
       "      <td>0.0</td>\n",
       "    </tr>\n",
       "    <tr>\n",
       "      <th>2024-05-09</th>\n",
       "      <td>905.289978</td>\n",
       "      <td>910.719971</td>\n",
       "      <td>882.309998</td>\n",
       "      <td>887.469971</td>\n",
       "      <td>37801300</td>\n",
       "      <td>887.469971</td>\n",
       "      <td>0.0</td>\n",
       "      <td>0.0</td>\n",
       "    </tr>\n",
       "    <tr>\n",
       "      <th>2024-05-10</th>\n",
       "      <td>903.049988</td>\n",
       "      <td>914.010010</td>\n",
       "      <td>892.270020</td>\n",
       "      <td>898.780029</td>\n",
       "      <td>33455700</td>\n",
       "      <td>898.780029</td>\n",
       "      <td>0.0</td>\n",
       "      <td>0.0</td>\n",
       "    </tr>\n",
       "  </tbody>\n",
       "</table>\n",
       "<p>1851 rows × 8 columns</p>\n",
       "</div>"
      ],
      "text/plain": [
       "                         open        high         low       close     volume  \\\n",
       "symbol date                                                                    \n",
       "NVDA   2017-01-03   26.100000   26.592501   24.844999   25.502501  150199600   \n",
       "       2017-01-04   25.850000   26.375000   25.382500   26.097500  119922000   \n",
       "       2017-01-05   26.132500   26.455000   25.262501   25.434999   98429600   \n",
       "       2017-01-06   25.712500   26.062500   25.299999   25.775000   82285600   \n",
       "       2017-01-09   25.875000   27.000000   25.875000   26.820000   91624800   \n",
       "...                       ...         ...         ...         ...        ...   \n",
       "       2024-05-06  893.900024  922.200012  890.549988  921.400024   37620300   \n",
       "       2024-05-07  910.979980  917.809998  823.250000  905.539978   43734200   \n",
       "       2024-05-08  894.830017  911.940002  894.200012  904.119995   32572100   \n",
       "       2024-05-09  905.289978  910.719971  882.309998  887.469971   37801300   \n",
       "       2024-05-10  903.049988  914.010010  892.270020  898.780029   33455700   \n",
       "\n",
       "                     adjclose  dividends  splits  \n",
       "symbol date                                       \n",
       "NVDA   2017-01-03   25.134892        0.0     0.0  \n",
       "       2017-01-04   25.721317        0.0     0.0  \n",
       "       2017-01-05   25.068359        0.0     0.0  \n",
       "       2017-01-06   25.403456        0.0     0.0  \n",
       "       2017-01-09   26.433395        0.0     0.0  \n",
       "...                       ...        ...     ...  \n",
       "       2024-05-06  921.400024        0.0     0.0  \n",
       "       2024-05-07  905.539978        0.0     0.0  \n",
       "       2024-05-08  904.119995        0.0     0.0  \n",
       "       2024-05-09  887.469971        0.0     0.0  \n",
       "       2024-05-10  898.780029        0.0     0.0  \n",
       "\n",
       "[1851 rows x 8 columns]"
      ]
     },
     "execution_count": 99,
     "metadata": {},
     "output_type": "execute_result"
    }
   ],
   "source": [
    "price = yq.Ticker(\"NVDA\").history(start='2017-01-02')\n",
    "price"
   ]
  },
  {
   "cell_type": "code",
   "execution_count": 128,
   "id": "1c0884aa-a07f-4306-b2d0-1a68920dfb4f",
   "metadata": {},
   "outputs": [],
   "source": [
    "price_df = price.reset_index()[['date','adjclose']]\n",
    "price_df['return'] = price_df['adjclose'].pct_change(1)\n",
    "price_df = price_df[['date','return']]"
   ]
  },
  {
   "cell_type": "code",
   "execution_count": 130,
   "id": "a236897f-bbd9-4ae1-a023-f754e8afee50",
   "metadata": {},
   "outputs": [],
   "source": [
    "price_df['date'] = pd.to_datetime(price_df['date'])"
   ]
  },
  {
   "cell_type": "code",
   "execution_count": 131,
   "id": "d96873e6-843e-46ed-bd2b-6106864fcde4",
   "metadata": {},
   "outputs": [],
   "source": [
    "final_df = model_df.merge(price_df,on='date',how='right')"
   ]
  },
  {
   "cell_type": "code",
   "execution_count": 132,
   "id": "a1893405-1681-4501-91cc-f93516b14ded",
   "metadata": {},
   "outputs": [],
   "source": [
    "final_df.dropna(inplace=True)"
   ]
  },
  {
   "cell_type": "code",
   "execution_count": 133,
   "id": "17b0aee1-0a96-48cd-bd8b-500c599b2029",
   "metadata": {},
   "outputs": [
    {
     "data": {
      "text/html": [
       "<div>\n",
       "<style scoped>\n",
       "    .dataframe tbody tr th:only-of-type {\n",
       "        vertical-align: middle;\n",
       "    }\n",
       "\n",
       "    .dataframe tbody tr th {\n",
       "        vertical-align: top;\n",
       "    }\n",
       "\n",
       "    .dataframe thead th {\n",
       "        text-align: right;\n",
       "    }\n",
       "</style>\n",
       "<table border=\"1\" class=\"dataframe\">\n",
       "  <thead>\n",
       "    <tr style=\"text-align: right;\">\n",
       "      <th></th>\n",
       "      <th>date</th>\n",
       "      <th>sentiment</th>\n",
       "      <th>afinn_sentiment</th>\n",
       "      <th>min_max_afinn</th>\n",
       "      <th>std_afinn</th>\n",
       "      <th>div_to_max</th>\n",
       "      <th>return</th>\n",
       "    </tr>\n",
       "  </thead>\n",
       "  <tbody>\n",
       "    <tr>\n",
       "      <th>1</th>\n",
       "      <td>2017-01-04</td>\n",
       "      <td>1.000000</td>\n",
       "      <td>19.590910</td>\n",
       "      <td>-0.689905</td>\n",
       "      <td>-0.200052</td>\n",
       "      <td>0.011298</td>\n",
       "      <td>0.023331</td>\n",
       "    </tr>\n",
       "    <tr>\n",
       "      <th>2</th>\n",
       "      <td>2017-01-05</td>\n",
       "      <td>0.913043</td>\n",
       "      <td>23.108696</td>\n",
       "      <td>-0.686438</td>\n",
       "      <td>-0.117671</td>\n",
       "      <td>0.013327</td>\n",
       "      <td>-0.025386</td>\n",
       "    </tr>\n",
       "    <tr>\n",
       "      <th>3</th>\n",
       "      <td>2017-01-06</td>\n",
       "      <td>1.000000</td>\n",
       "      <td>17.428572</td>\n",
       "      <td>-0.692037</td>\n",
       "      <td>-0.250691</td>\n",
       "      <td>0.010051</td>\n",
       "      <td>0.013367</td>\n",
       "    </tr>\n",
       "    <tr>\n",
       "      <th>4</th>\n",
       "      <td>2017-01-09</td>\n",
       "      <td>1.000000</td>\n",
       "      <td>23.142857</td>\n",
       "      <td>-0.686404</td>\n",
       "      <td>-0.116871</td>\n",
       "      <td>0.013347</td>\n",
       "      <td>0.040543</td>\n",
       "    </tr>\n",
       "    <tr>\n",
       "      <th>5</th>\n",
       "      <td>2017-01-10</td>\n",
       "      <td>0.600000</td>\n",
       "      <td>20.000000</td>\n",
       "      <td>-0.689502</td>\n",
       "      <td>-0.190472</td>\n",
       "      <td>0.011534</td>\n",
       "      <td>-0.007550</td>\n",
       "    </tr>\n",
       "    <tr>\n",
       "      <th>...</th>\n",
       "      <td>...</td>\n",
       "      <td>...</td>\n",
       "      <td>...</td>\n",
       "      <td>...</td>\n",
       "      <td>...</td>\n",
       "      <td>...</td>\n",
       "      <td>...</td>\n",
       "    </tr>\n",
       "    <tr>\n",
       "      <th>1829</th>\n",
       "      <td>2024-04-11</td>\n",
       "      <td>0.836066</td>\n",
       "      <td>20.819672</td>\n",
       "      <td>-0.688694</td>\n",
       "      <td>-0.171276</td>\n",
       "      <td>0.012007</td>\n",
       "      <td>0.041096</td>\n",
       "    </tr>\n",
       "    <tr>\n",
       "      <th>1830</th>\n",
       "      <td>2024-04-12</td>\n",
       "      <td>0.600000</td>\n",
       "      <td>6.000000</td>\n",
       "      <td>-0.703302</td>\n",
       "      <td>-0.518333</td>\n",
       "      <td>0.003460</td>\n",
       "      <td>-0.026816</td>\n",
       "    </tr>\n",
       "    <tr>\n",
       "      <th>1831</th>\n",
       "      <td>2024-04-15</td>\n",
       "      <td>1.000000</td>\n",
       "      <td>7.307693</td>\n",
       "      <td>-0.702013</td>\n",
       "      <td>-0.487709</td>\n",
       "      <td>0.004214</td>\n",
       "      <td>-0.024777</td>\n",
       "    </tr>\n",
       "    <tr>\n",
       "      <th>1832</th>\n",
       "      <td>2024-04-16</td>\n",
       "      <td>0.910112</td>\n",
       "      <td>21.235954</td>\n",
       "      <td>-0.688284</td>\n",
       "      <td>-0.161528</td>\n",
       "      <td>0.012247</td>\n",
       "      <td>0.016442</td>\n",
       "    </tr>\n",
       "    <tr>\n",
       "      <th>1833</th>\n",
       "      <td>2024-04-17</td>\n",
       "      <td>1.000000</td>\n",
       "      <td>11.545455</td>\n",
       "      <td>-0.697836</td>\n",
       "      <td>-0.388466</td>\n",
       "      <td>0.006658</td>\n",
       "      <td>-0.038666</td>\n",
       "    </tr>\n",
       "  </tbody>\n",
       "</table>\n",
       "<p>1812 rows × 7 columns</p>\n",
       "</div>"
      ],
      "text/plain": [
       "           date  sentiment  afinn_sentiment  min_max_afinn  std_afinn  \\\n",
       "1    2017-01-04   1.000000        19.590910      -0.689905  -0.200052   \n",
       "2    2017-01-05   0.913043        23.108696      -0.686438  -0.117671   \n",
       "3    2017-01-06   1.000000        17.428572      -0.692037  -0.250691   \n",
       "4    2017-01-09   1.000000        23.142857      -0.686404  -0.116871   \n",
       "5    2017-01-10   0.600000        20.000000      -0.689502  -0.190472   \n",
       "...         ...        ...              ...            ...        ...   \n",
       "1829 2024-04-11   0.836066        20.819672      -0.688694  -0.171276   \n",
       "1830 2024-04-12   0.600000         6.000000      -0.703302  -0.518333   \n",
       "1831 2024-04-15   1.000000         7.307693      -0.702013  -0.487709   \n",
       "1832 2024-04-16   0.910112        21.235954      -0.688284  -0.161528   \n",
       "1833 2024-04-17   1.000000        11.545455      -0.697836  -0.388466   \n",
       "\n",
       "      div_to_max    return  \n",
       "1       0.011298  0.023331  \n",
       "2       0.013327 -0.025386  \n",
       "3       0.010051  0.013367  \n",
       "4       0.013347  0.040543  \n",
       "5       0.011534 -0.007550  \n",
       "...          ...       ...  \n",
       "1829    0.012007  0.041096  \n",
       "1830    0.003460 -0.026816  \n",
       "1831    0.004214 -0.024777  \n",
       "1832    0.012247  0.016442  \n",
       "1833    0.006658 -0.038666  \n",
       "\n",
       "[1812 rows x 7 columns]"
      ]
     },
     "execution_count": 133,
     "metadata": {},
     "output_type": "execute_result"
    }
   ],
   "source": [
    "final_df"
   ]
  },
  {
   "cell_type": "code",
   "execution_count": 139,
   "id": "ebb449ea-1af9-4f40-990f-1ec1623f508c",
   "metadata": {},
   "outputs": [
    {
     "data": {
      "text/plain": [
       "[<matplotlib.lines.Line2D at 0x7f6f9062b490>]"
      ]
     },
     "execution_count": 139,
     "metadata": {},
     "output_type": "execute_result"
    },
    {
     "data": {
      "image/png": "[encoded data removed]",
      "text/plain": [
       "<Figure size 1500x700 with 1 Axes>"
      ]
     },
     "metadata": {},
     "output_type": "display_data"
    }
   ],
   "source": [
    "plt.figure(figsize=(15,7))\n",
    "plt.plot(final_df['date'],final_df['return'])\n",
    "plt.plot(final_df['date'],final_df['std_afinn'])"
   ]
  },
  {
   "cell_type": "code",
   "execution_count": 140,
   "id": "43d066a2-47d6-4e23-bb52-281a317985a4",
   "metadata": {},
   "outputs": [],
   "source": [
    "corr = final_df.corr()"
   ]
  },
  {
   "cell_type": "code",
   "execution_count": 141,
   "id": "0fa1319a-e6fa-408e-918a-c9ee9bc38473",
   "metadata": {},
   "outputs": [
    {
     "data": {
      "text/plain": [
       "<Axes: >"
      ]
     },
     "execution_count": 141,
     "metadata": {},
     "output_type": "execute_result"
    },
    {
     "data": {
      "image/png": "[encoded data removed]",
      "text/plain": [
       "<Figure size 1500x700 with 2 Axes>"
      ]
     },
     "metadata": {},
     "output_type": "display_data"
    }
   ],
   "source": [
    "plt.figure(figsize=(15,7))\n",
    "sns.heatmap(corr,annot=True)"
   ]
  },
  {
   "cell_type": "code",
   "execution_count": 195,
   "id": "1bb73097-0ac5-4ca0-8aea-db4ed6be06f3",
   "metadata": {},
   "outputs": [
    {
     "name": "stderr",
     "output_type": "stream",
     "text": [
      "/tmp/ipykernel_17355/3001637256.py:3: SettingWithCopyWarning: \n",
      "A value is trying to be set on a copy of a slice from a DataFrame.\n",
      "Try using .loc[row_indexer,col_indexer] = value instead\n",
      "\n",
      "See the caveats in the documentation: https://pandas.pydata.org/pandas-docs/stable/user_guide/indexing.html#returning-a-view-versus-a-copy\n",
      "  reg_df['next_day_return'] = reg_df['return'].shift(-1)\n",
      "/tmp/ipykernel_17355/3001637256.py:4: SettingWithCopyWarning: \n",
      "A value is trying to be set on a copy of a slice from a DataFrame.\n",
      "Try using .loc[row_indexer,col_indexer] = value instead\n",
      "\n",
      "See the caveats in the documentation: https://pandas.pydata.org/pandas-docs/stable/user_guide/indexing.html#returning-a-view-versus-a-copy\n",
      "  reg_df['label'] = np.where(reg_df['next_day_return']<=0,0,1)\n",
      "/tmp/ipykernel_17355/3001637256.py:5: SettingWithCopyWarning: \n",
      "A value is trying to be set on a copy of a slice from a DataFrame\n",
      "\n",
      "See the caveats in the documentation: https://pandas.pydata.org/pandas-docs/stable/user_guide/indexing.html#returning-a-view-versus-a-copy\n",
      "  reg_df.dropna(inplace=True)\n"
     ]
    }
   ],
   "source": [
    "reg_df = final_df.copy()\n",
    "reg_df = final_df[['sentiment','std_afinn','return']]\n",
    "reg_df['next_day_return'] = reg_df['return'].shift(-1)\n",
    "reg_df['label'] = np.where(reg_df['next_day_return']<=0,0,1)\n",
    "reg_df.dropna(inplace=True)"
   ]
  },
  {
   "cell_type": "code",
   "execution_count": 196,
   "id": "1acd318b-aab4-476c-b44d-c020adb32bc8",
   "metadata": {},
   "outputs": [],
   "source": [
    "from sklearn.linear_model import LinearRegression\n",
    "from sklearn.svm import SVR,SVC"
   ]
  },
  {
   "cell_type": "code",
   "execution_count": 197,
   "id": "adb8dd7d-90a5-446a-b931-554937d65c16",
   "metadata": {},
   "outputs": [],
   "source": [
    "model = LinearRegression()\n",
    "X,y = reg_df.iloc[:,:3].values,reg_df.iloc[:,3]\n",
    "\n",
    "n = len(X)\n",
    "train_size = int(0.8*n)\n",
    "\n",
    "X_train,X_test = X[:train_size],X[train_size:]\n",
    "y_train,y_test = y[:train_size],y[train_size:]"
   ]
  },
  {
   "cell_type": "code",
   "execution_count": null,
   "id": "64e66c78-f0fc-4e56-8127-3d4d1f8a552a",
   "metadata": {},
   "outputs": [],
   "source": []
  },
  {
   "cell_type": "code",
   "execution_count": null,
   "id": "6965ef27-23c4-4ded-911f-2ee50a4cce98",
   "metadata": {},
   "outputs": [],
   "source": []
  },
  {
   "cell_type": "code",
   "execution_count": 198,
   "id": "24affac2-a8ae-4a94-86d0-32e52262eaee",
   "metadata": {},
   "outputs": [],
   "source": [
    "model = model.fit(X_train,y_train)"
   ]
  },
  {
   "cell_type": "code",
   "execution_count": 199,
   "id": "2cbaf97b-dc61-46ff-8b6f-4bc776ac12ae",
   "metadata": {},
   "outputs": [
    {
     "data": {
      "text/plain": [
       "0.008880090140080399"
      ]
     },
     "execution_count": 199,
     "metadata": {},
     "output_type": "execute_result"
    }
   ],
   "source": [
    "model.score(X_train,y_train)"
   ]
  },
  {
   "cell_type": "code",
   "execution_count": 200,
   "id": "29102434-b9ee-4a6c-b44e-6a34795cbfa6",
   "metadata": {},
   "outputs": [
    {
     "data": {
      "text/plain": [
       "-0.030101880149937754"
      ]
     },
     "execution_count": 200,
     "metadata": {},
     "output_type": "execute_result"
    }
   ],
   "source": [
    "model.score(X_test,y_test)"
   ]
  },
  {
   "cell_type": "code",
   "execution_count": 201,
   "id": "51515da4-90f0-4a8b-99ba-9955743d165a",
   "metadata": {},
   "outputs": [],
   "source": [
    "svm = SVR()"
   ]
  },
  {
   "cell_type": "code",
   "execution_count": 202,
   "id": "8e6def36-0ed2-4328-806d-8ca700e4c58f",
   "metadata": {},
   "outputs": [],
   "source": [
    "svm = svm.fit(X_train,y_train)"
   ]
  },
  {
   "cell_type": "code",
   "execution_count": 203,
   "id": "b6c8c724-ec3a-439c-ba86-0aeb58fa5b26",
   "metadata": {},
   "outputs": [
    {
     "data": {
      "text/plain": [
       "-0.25950666675557543"
      ]
     },
     "execution_count": 203,
     "metadata": {},
     "output_type": "execute_result"
    }
   ],
   "source": [
    "svm.score(X_train,y_train)"
   ]
  },
  {
   "cell_type": "code",
   "execution_count": 204,
   "id": "fc94c1b3-5e13-42a4-95c7-cdd9ebc62a32",
   "metadata": {},
   "outputs": [
    {
     "data": {
      "text/plain": [
       "-0.30037204233146886"
      ]
     },
     "execution_count": 204,
     "metadata": {},
     "output_type": "execute_result"
    }
   ],
   "source": [
    "svm.score(X_test,y_test)"
   ]
  },
  {
   "cell_type": "code",
   "execution_count": 205,
   "id": "fb5ecae2-800f-41f3-975b-ed9c5e30632a",
   "metadata": {},
   "outputs": [],
   "source": [
    "from sklearn.linear_model import LogisticRegression\n",
    "from sklearn.ensemble import RandomForestClassifier\n",
    "from sklearn.neighbors import KNeighborsClassifier\n",
    "from xgboost import XGBClassifier"
   ]
  },
  {
   "cell_type": "code",
   "execution_count": 206,
   "id": "d4225aa9-841b-4310-a274-721d710c5f54",
   "metadata": {},
   "outputs": [],
   "source": [
    "X,y = reg_df.iloc[:,:3].values,reg_df.iloc[:,4]\n",
    "\n",
    "n = len(X)\n",
    "train_size = int(0.8*n)\n",
    "\n",
    "X_train,X_test = X[:train_size],X[train_size:]\n",
    "y_train,y_test = y[:train_size],y[train_size:]"
   ]
  },
  {
   "cell_type": "code",
   "execution_count": 207,
   "id": "24f69c9a-0e72-4a09-b62d-2810ba030413",
   "metadata": {},
   "outputs": [],
   "source": [
    "log_reg = LogisticRegression()\n",
    "log_reg = log_reg.fit(X_train,y_train)"
   ]
  },
  {
   "cell_type": "code",
   "execution_count": 208,
   "id": "96c219e5-5001-4cab-8960-f1e8fc31440c",
   "metadata": {},
   "outputs": [
    {
     "data": {
      "text/plain": [
       "(0.5379834254143646, 0.5619834710743802)"
      ]
     },
     "execution_count": 208,
     "metadata": {},
     "output_type": "execute_result"
    }
   ],
   "source": [
    "log_reg.score(X_train,y_train),log_reg.score(X_test,y_test)"
   ]
  },
  {
   "cell_type": "code",
   "execution_count": 209,
   "id": "e5057302-b1f1-423c-a855-1733266a3f29",
   "metadata": {},
   "outputs": [],
   "source": [
    "svc = SVC()\n",
    "svc = svc.fit(X_train,y_train)"
   ]
  },
  {
   "cell_type": "code",
   "execution_count": 210,
   "id": "82fec76a-f022-4cfa-9b9a-f54c4d715304",
   "metadata": {},
   "outputs": [
    {
     "data": {
      "text/plain": [
       "(0.5455801104972375, 0.5674931129476584)"
      ]
     },
     "execution_count": 210,
     "metadata": {},
     "output_type": "execute_result"
    }
   ],
   "source": [
    "svc.score(X_train,y_train),svc.score(X_test,y_test)"
   ]
  },
  {
   "cell_type": "code",
   "execution_count": 211,
   "id": "4dcb7497-25d3-4300-8f39-410c3f7de848",
   "metadata": {},
   "outputs": [
    {
     "data": {
      "text/plain": [
       "(0.6498618784530387, 0.5316804407713499)"
      ]
     },
     "execution_count": 211,
     "metadata": {},
     "output_type": "execute_result"
    }
   ],
   "source": [
    "forest = RandomForestClassifier(n_estimators=66,max_depth=5)\n",
    "forest = forest.fit(X_train,y_train)\n",
    "forest.score(X_train,y_train),forest.score(X_test,y_test)"
   ]
  },
  {
   "cell_type": "code",
   "execution_count": 212,
   "id": "fe971140-a495-4c44-980f-46812b109776",
   "metadata": {},
   "outputs": [
    {
     "data": {
      "text/plain": [
       "(0.6401933701657458, 0.5674931129476584)"
      ]
     },
     "execution_count": 212,
     "metadata": {},
     "output_type": "execute_result"
    }
   ],
   "source": [
    "knn = KNeighborsClassifier(n_neighbors=7)\n",
    "knn = knn.fit(X_train,y_train)\n",
    "knn.score(X_train,y_train),knn.score(X_test,y_test)"
   ]
  },
  {
   "cell_type": "code",
   "execution_count": 188,
   "id": "d34a6745-2cbb-405d-87a0-d60f60ce8ef6",
   "metadata": {},
   "outputs": [
    {
     "data": {
      "text/html": [
       "<div>\n",
       "<style scoped>\n",
       "    .dataframe tbody tr th:only-of-type {\n",
       "        vertical-align: middle;\n",
       "    }\n",
       "\n",
       "    .dataframe tbody tr th {\n",
       "        vertical-align: top;\n",
       "    }\n",
       "\n",
       "    .dataframe thead th {\n",
       "        text-align: right;\n",
       "    }\n",
       "</style>\n",
       "<table border=\"1\" class=\"dataframe\">\n",
       "  <thead>\n",
       "    <tr style=\"text-align: right;\">\n",
       "      <th></th>\n",
       "      <th>sentiment</th>\n",
       "      <th>std_afinn</th>\n",
       "      <th>return</th>\n",
       "      <th>next_day_return</th>\n",
       "      <th>label</th>\n",
       "    </tr>\n",
       "  </thead>\n",
       "  <tbody>\n",
       "    <tr>\n",
       "      <th>1</th>\n",
       "      <td>1.000000</td>\n",
       "      <td>-0.200052</td>\n",
       "      <td>0.023331</td>\n",
       "      <td>-0.025386</td>\n",
       "      <td>-1</td>\n",
       "    </tr>\n",
       "    <tr>\n",
       "      <th>2</th>\n",
       "      <td>0.913043</td>\n",
       "      <td>-0.117671</td>\n",
       "      <td>-0.025386</td>\n",
       "      <td>0.013367</td>\n",
       "      <td>1</td>\n",
       "    </tr>\n",
       "    <tr>\n",
       "      <th>3</th>\n",
       "      <td>1.000000</td>\n",
       "      <td>-0.250691</td>\n",
       "      <td>0.013367</td>\n",
       "      <td>0.040543</td>\n",
       "      <td>1</td>\n",
       "    </tr>\n",
       "    <tr>\n",
       "      <th>4</th>\n",
       "      <td>1.000000</td>\n",
       "      <td>-0.116871</td>\n",
       "      <td>0.040543</td>\n",
       "      <td>-0.007550</td>\n",
       "      <td>-1</td>\n",
       "    </tr>\n",
       "    <tr>\n",
       "      <th>5</th>\n",
       "      <td>0.600000</td>\n",
       "      <td>-0.190472</td>\n",
       "      <td>-0.007550</td>\n",
       "      <td>-0.012304</td>\n",
       "      <td>-1</td>\n",
       "    </tr>\n",
       "    <tr>\n",
       "      <th>...</th>\n",
       "      <td>...</td>\n",
       "      <td>...</td>\n",
       "      <td>...</td>\n",
       "      <td>...</td>\n",
       "      <td>...</td>\n",
       "    </tr>\n",
       "    <tr>\n",
       "      <th>1828</th>\n",
       "      <td>0.882353</td>\n",
       "      <td>0.560991</td>\n",
       "      <td>0.019741</td>\n",
       "      <td>0.041096</td>\n",
       "      <td>1</td>\n",
       "    </tr>\n",
       "    <tr>\n",
       "      <th>1829</th>\n",
       "      <td>0.836066</td>\n",
       "      <td>-0.171276</td>\n",
       "      <td>0.041096</td>\n",
       "      <td>-0.026816</td>\n",
       "      <td>-1</td>\n",
       "    </tr>\n",
       "    <tr>\n",
       "      <th>1830</th>\n",
       "      <td>0.600000</td>\n",
       "      <td>-0.518333</td>\n",
       "      <td>-0.026816</td>\n",
       "      <td>-0.024777</td>\n",
       "      <td>-1</td>\n",
       "    </tr>\n",
       "    <tr>\n",
       "      <th>1831</th>\n",
       "      <td>1.000000</td>\n",
       "      <td>-0.487709</td>\n",
       "      <td>-0.024777</td>\n",
       "      <td>0.016442</td>\n",
       "      <td>1</td>\n",
       "    </tr>\n",
       "    <tr>\n",
       "      <th>1832</th>\n",
       "      <td>0.910112</td>\n",
       "      <td>-0.161528</td>\n",
       "      <td>0.016442</td>\n",
       "      <td>-0.038666</td>\n",
       "      <td>-1</td>\n",
       "    </tr>\n",
       "  </tbody>\n",
       "</table>\n",
       "<p>1811 rows × 5 columns</p>\n",
       "</div>"
      ],
      "text/plain": [
       "      sentiment  std_afinn    return  next_day_return  label\n",
       "1      1.000000  -0.200052  0.023331        -0.025386     -1\n",
       "2      0.913043  -0.117671 -0.025386         0.013367      1\n",
       "3      1.000000  -0.250691  0.013367         0.040543      1\n",
       "4      1.000000  -0.116871  0.040543        -0.007550     -1\n",
       "5      0.600000  -0.190472 -0.007550        -0.012304     -1\n",
       "...         ...        ...       ...              ...    ...\n",
       "1828   0.882353   0.560991  0.019741         0.041096      1\n",
       "1829   0.836066  -0.171276  0.041096        -0.026816     -1\n",
       "1830   0.600000  -0.518333 -0.026816        -0.024777     -1\n",
       "1831   1.000000  -0.487709 -0.024777         0.016442      1\n",
       "1832   0.910112  -0.161528  0.016442        -0.038666     -1\n",
       "\n",
       "[1811 rows x 5 columns]"
      ]
     },
     "execution_count": 188,
     "metadata": {},
     "output_type": "execute_result"
    }
   ],
   "source": [
    "reg_df"
   ]
  },
  {
   "cell_type": "code",
   "execution_count": 189,
   "id": "b9106811-5c05-4e5d-a231-7a727b6969b3",
   "metadata": {},
   "outputs": [
    {
     "data": {
      "text/plain": [
       "label\n",
       " 1    983\n",
       "-1    828\n",
       "Name: count, dtype: int64"
      ]
     },
     "execution_count": 189,
     "metadata": {},
     "output_type": "execute_result"
    }
   ],
   "source": [
    "reg_df.value_counts(\"label\")"
   ]
  },
  {
   "cell_type": "code",
   "execution_count": 215,
   "id": "c417609e-94b6-4666-b869-fa2ebfda6b98",
   "metadata": {},
   "outputs": [
    {
     "data": {
      "text/plain": [
       "(0.9005524861878453, 0.5234159779614325)"
      ]
     },
     "execution_count": 215,
     "metadata": {},
     "output_type": "execute_result"
    }
   ],
   "source": [
    "xgb = XGBClassifier(max_depth=5)\n",
    "xgb = xgb.fit(X_train,y_train.values.reshape(-1,1))\n",
    "xgb.score(X_train,y_train),xgb.score(X_test,y_test)"
   ]
  },
  {
   "cell_type": "code",
   "execution_count": 216,
   "id": "3d8be005-3b61-4061-87af-d7504c6f9d54",
   "metadata": {},
   "outputs": [
    {
     "data": {
      "text/html": [
       "<div>\n",
       "<style scoped>\n",
       "    .dataframe tbody tr th:only-of-type {\n",
       "        vertical-align: middle;\n",
       "    }\n",
       "\n",
       "    .dataframe tbody tr th {\n",
       "        vertical-align: top;\n",
       "    }\n",
       "\n",
       "    .dataframe thead th {\n",
       "        text-align: right;\n",
       "    }\n",
       "</style>\n",
       "<table border=\"1\" class=\"dataframe\">\n",
       "  <thead>\n",
       "    <tr style=\"text-align: right;\">\n",
       "      <th></th>\n",
       "      <th>sentiment</th>\n",
       "      <th>std_afinn</th>\n",
       "      <th>return</th>\n",
       "      <th>next_day_return</th>\n",
       "      <th>label</th>\n",
       "    </tr>\n",
       "  </thead>\n",
       "  <tbody>\n",
       "    <tr>\n",
       "      <th>1</th>\n",
       "      <td>1.000000</td>\n",
       "      <td>-0.200052</td>\n",
       "      <td>0.023331</td>\n",
       "      <td>-0.025386</td>\n",
       "      <td>0</td>\n",
       "    </tr>\n",
       "    <tr>\n",
       "      <th>2</th>\n",
       "      <td>0.913043</td>\n",
       "      <td>-0.117671</td>\n",
       "      <td>-0.025386</td>\n",
       "      <td>0.013367</td>\n",
       "      <td>1</td>\n",
       "    </tr>\n",
       "    <tr>\n",
       "      <th>3</th>\n",
       "      <td>1.000000</td>\n",
       "      <td>-0.250691</td>\n",
       "      <td>0.013367</td>\n",
       "      <td>0.040543</td>\n",
       "      <td>1</td>\n",
       "    </tr>\n",
       "    <tr>\n",
       "      <th>4</th>\n",
       "      <td>1.000000</td>\n",
       "      <td>-0.116871</td>\n",
       "      <td>0.040543</td>\n",
       "      <td>-0.007550</td>\n",
       "      <td>0</td>\n",
       "    </tr>\n",
       "    <tr>\n",
       "      <th>5</th>\n",
       "      <td>0.600000</td>\n",
       "      <td>-0.190472</td>\n",
       "      <td>-0.007550</td>\n",
       "      <td>-0.012304</td>\n",
       "      <td>0</td>\n",
       "    </tr>\n",
       "    <tr>\n",
       "      <th>...</th>\n",
       "      <td>...</td>\n",
       "      <td>...</td>\n",
       "      <td>...</td>\n",
       "      <td>...</td>\n",
       "      <td>...</td>\n",
       "    </tr>\n",
       "    <tr>\n",
       "      <th>1828</th>\n",
       "      <td>0.882353</td>\n",
       "      <td>0.560991</td>\n",
       "      <td>0.019741</td>\n",
       "      <td>0.041096</td>\n",
       "      <td>1</td>\n",
       "    </tr>\n",
       "    <tr>\n",
       "      <th>1829</th>\n",
       "      <td>0.836066</td>\n",
       "      <td>-0.171276</td>\n",
       "      <td>0.041096</td>\n",
       "      <td>-0.026816</td>\n",
       "      <td>0</td>\n",
       "    </tr>\n",
       "    <tr>\n",
       "      <th>1830</th>\n",
       "      <td>0.600000</td>\n",
       "      <td>-0.518333</td>\n",
       "      <td>-0.026816</td>\n",
       "      <td>-0.024777</td>\n",
       "      <td>0</td>\n",
       "    </tr>\n",
       "    <tr>\n",
       "      <th>1831</th>\n",
       "      <td>1.000000</td>\n",
       "      <td>-0.487709</td>\n",
       "      <td>-0.024777</td>\n",
       "      <td>0.016442</td>\n",
       "      <td>1</td>\n",
       "    </tr>\n",
       "    <tr>\n",
       "      <th>1832</th>\n",
       "      <td>0.910112</td>\n",
       "      <td>-0.161528</td>\n",
       "      <td>0.016442</td>\n",
       "      <td>-0.038666</td>\n",
       "      <td>0</td>\n",
       "    </tr>\n",
       "  </tbody>\n",
       "</table>\n",
       "<p>1811 rows × 5 columns</p>\n",
       "</div>"
      ],
      "text/plain": [
       "      sentiment  std_afinn    return  next_day_return  label\n",
       "1      1.000000  -0.200052  0.023331        -0.025386      0\n",
       "2      0.913043  -0.117671 -0.025386         0.013367      1\n",
       "3      1.000000  -0.250691  0.013367         0.040543      1\n",
       "4      1.000000  -0.116871  0.040543        -0.007550      0\n",
       "5      0.600000  -0.190472 -0.007550        -0.012304      0\n",
       "...         ...        ...       ...              ...    ...\n",
       "1828   0.882353   0.560991  0.019741         0.041096      1\n",
       "1829   0.836066  -0.171276  0.041096        -0.026816      0\n",
       "1830   0.600000  -0.518333 -0.026816        -0.024777      0\n",
       "1831   1.000000  -0.487709 -0.024777         0.016442      1\n",
       "1832   0.910112  -0.161528  0.016442        -0.038666      0\n",
       "\n",
       "[1811 rows x 5 columns]"
      ]
     },
     "execution_count": 216,
     "metadata": {},
     "output_type": "execute_result"
    }
   ],
   "source": [
    "reg_df"
   ]
  },
  {
   "cell_type": "markdown",
   "id": "a3f5b527-bed9-4660-9107-73139f5e51e1",
   "metadata": {},
   "source": [
    "### LSTM"
   ]
  },
  {
   "cell_type": "code",
   "execution_count": null,
   "id": "f034b3bd-1870-4ba3-a493-b07273858e55",
   "metadata": {},
   "outputs": [],
   "source": [
    "from elephant import *\n",
    "from pyspark.sql import SparkSession\n",
    "from elephant import layers\n",
    "from elephant.spark_model_bundler import SparkModelBundler\n",
    "from pyspark.ml.evaluation import RegressionEvaluator\n",
    "\n",
    "layers.s"
   ]
  }
 ],
 "metadata": {
  "kernelspec": {
   "display_name": "big_data_project_kernel",
   "language": "python",
   "name": "big_data_project_kernel"
  },
  "language_info": {
   "codemirror_mode": {
    "name": "ipython",
    "version": 3
   },
   "file_extension": ".py",
   "mimetype": "text/x-python",
   "name": "python",
   "nbconvert_exporter": "python",
   "pygments_lexer": "ipython3",
   "version": "3.11.4"
  }
 },
 "nbformat": 4,
 "nbformat_minor": 5
}
